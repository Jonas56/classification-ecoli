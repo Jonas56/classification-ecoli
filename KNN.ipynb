{
 "cells": [
  {
   "cell_type": "markdown",
   "id": "cead43d3",
   "metadata": {},
   "source": [
    "# K-nearest neighbors classification\n",
    "\n",
    "![K-Nearest neighboors](https://static.javatpoint.com/tutorial/machine-learning/images/k-nearest-neighbor-algorithm-for-machine-learning3.png)"
   ]
  },
  {
   "cell_type": "code",
   "execution_count": 1,
   "id": "20a1e4e2",
   "metadata": {},
   "outputs": [
    {
     "data": {
      "text/html": [
       "<div>\n",
       "<style scoped>\n",
       "    .dataframe tbody tr th:only-of-type {\n",
       "        vertical-align: middle;\n",
       "    }\n",
       "\n",
       "    .dataframe tbody tr th {\n",
       "        vertical-align: top;\n",
       "    }\n",
       "\n",
       "    .dataframe thead th {\n",
       "        text-align: right;\n",
       "    }\n",
       "</style>\n",
       "<table border=\"1\" class=\"dataframe\">\n",
       "  <thead>\n",
       "    <tr style=\"text-align: right;\">\n",
       "      <th></th>\n",
       "      <th>mcg</th>\n",
       "      <th>gvh</th>\n",
       "      <th>lip</th>\n",
       "      <th>chg</th>\n",
       "      <th>aac</th>\n",
       "      <th>alm1</th>\n",
       "      <th>alm2</th>\n",
       "      <th>location</th>\n",
       "    </tr>\n",
       "  </thead>\n",
       "  <tbody>\n",
       "    <tr>\n",
       "      <th>0</th>\n",
       "      <td>0.49</td>\n",
       "      <td>0.29</td>\n",
       "      <td>0.48</td>\n",
       "      <td>0.5</td>\n",
       "      <td>0.56</td>\n",
       "      <td>0.24</td>\n",
       "      <td>0.35</td>\n",
       "      <td>cp</td>\n",
       "    </tr>\n",
       "    <tr>\n",
       "      <th>1</th>\n",
       "      <td>0.07</td>\n",
       "      <td>0.40</td>\n",
       "      <td>0.48</td>\n",
       "      <td>0.5</td>\n",
       "      <td>0.54</td>\n",
       "      <td>0.35</td>\n",
       "      <td>0.44</td>\n",
       "      <td>cp</td>\n",
       "    </tr>\n",
       "    <tr>\n",
       "      <th>2</th>\n",
       "      <td>0.56</td>\n",
       "      <td>0.40</td>\n",
       "      <td>0.48</td>\n",
       "      <td>0.5</td>\n",
       "      <td>0.49</td>\n",
       "      <td>0.37</td>\n",
       "      <td>0.46</td>\n",
       "      <td>cp</td>\n",
       "    </tr>\n",
       "    <tr>\n",
       "      <th>3</th>\n",
       "      <td>0.59</td>\n",
       "      <td>0.49</td>\n",
       "      <td>0.48</td>\n",
       "      <td>0.5</td>\n",
       "      <td>0.52</td>\n",
       "      <td>0.45</td>\n",
       "      <td>0.36</td>\n",
       "      <td>cp</td>\n",
       "    </tr>\n",
       "    <tr>\n",
       "      <th>4</th>\n",
       "      <td>0.23</td>\n",
       "      <td>0.32</td>\n",
       "      <td>0.48</td>\n",
       "      <td>0.5</td>\n",
       "      <td>0.55</td>\n",
       "      <td>0.25</td>\n",
       "      <td>0.35</td>\n",
       "      <td>cp</td>\n",
       "    </tr>\n",
       "  </tbody>\n",
       "</table>\n",
       "</div>"
      ],
      "text/plain": [
       "    mcg   gvh   lip  chg   aac  alm1  alm2 location\n",
       "0  0.49  0.29  0.48  0.5  0.56  0.24  0.35       cp\n",
       "1  0.07  0.40  0.48  0.5  0.54  0.35  0.44       cp\n",
       "2  0.56  0.40  0.48  0.5  0.49  0.37  0.46       cp\n",
       "3  0.59  0.49  0.48  0.5  0.52  0.45  0.36       cp\n",
       "4  0.23  0.32  0.48  0.5  0.55  0.25  0.35       cp"
      ]
     },
     "execution_count": 1,
     "metadata": {},
     "output_type": "execute_result"
    }
   ],
   "source": [
    "# Loading the dataset\n",
    "import pandas as pd\n",
    "\n",
    "names = [\"Sequence Name\", \"mcg\", \"gvh\", \"lip\", \"chg\", \"aac\", \"alm1\", \"alm2\", \"location\"]\n",
    "ecoli = pd.read_csv(\"data/ecoli.data\",names=names)\n",
    "ecoli.drop([\"Sequence Name\"], axis=1, inplace = True) # drop sequence name as it does not contain generalizable information for modeling\n",
    "\n",
    "# drop ...\n",
    "ecoli.drop(ecoli[(ecoli[\"location\"]==\"om\") | (ecoli[\"location\"]==\"omL\") | (ecoli[\"location\"]==\"imL\") | (ecoli[\"location\"]==\"imS\") ].index, axis=0, inplace= True)\n",
    "ecoli.head()"
   ]
  },
  {
   "cell_type": "code",
   "execution_count": 2,
   "id": "251cd629",
   "metadata": {},
   "outputs": [],
   "source": [
    "import matplotlib.pyplot as plt\n",
    "# replace categorical data into quantitative (encoding)\n",
    "## (location varies when alm1 varies)\n",
    "cleanup_nums = {\"location\": {\"cp\": 0, \"im\": 1,  \"pp\": 2 , \"imU\": 3}}\n",
    "ecoli = ecoli.replace(cleanup_nums)"
   ]
  },
  {
   "cell_type": "markdown",
   "id": "8999c374",
   "metadata": {},
   "source": [
    "## KNN algorithm"
   ]
  },
  {
   "cell_type": "code",
   "execution_count": 6,
   "id": "55c33f17",
   "metadata": {},
   "outputs": [],
   "source": [
    "#KNN\n",
    "from sklearn.neighbors import KNeighborsClassifier\n",
    "from sklearn.metrics import accuracy_score , confusion_matrix, precision_score, recall_score, classification_report\n",
    "from sklearn.model_selection import train_test_split"
   ]
  },
  {
   "cell_type": "code",
   "execution_count": 42,
   "id": "151cd75a",
   "metadata": {},
   "outputs": [
    {
     "data": {
      "text/plain": [
       "1.0"
      ]
     },
     "execution_count": 42,
     "metadata": {},
     "output_type": "execute_result"
    }
   ],
   "source": [
    "X = ecoli.drop([\"location\"], axis=1) # features\n",
    "y = ecoli[\"location\"] # target\n",
    "model = KNeighborsClassifier(n_neighbors=1)\n",
    "# Train the model using the training set\n",
    "model.fit(X,y)\n",
    "# Predict Output\n",
    "y_model = model.predict(X)\n",
    "accuracy_score(y,y_model) "
   ]
  },
  {
   "cell_type": "markdown",
   "id": "cab75814",
   "metadata": {},
   "source": [
    "### KNN Validation with Hold-out\n",
    "Hold-out is when you split up your dataset into a **train** and **test** set. The training set is what the model is trained on, and the test set is used to see how well that model performs on unseen data. A common split when using the hold-out method is using `70%` of data for training and the remaining `30%` of the data for testing.\n",
    "\n"
   ]
  },
  {
   "cell_type": "code",
   "execution_count": 46,
   "id": "50ab0129",
   "metadata": {},
   "outputs": [
    {
     "data": {
      "text/plain": [
       "0.8494623655913979"
      ]
     },
     "execution_count": 46,
     "metadata": {},
     "output_type": "execute_result"
    }
   ],
   "source": [
    "import numpy as np\n",
    "# Hold out\n",
    "X = ecoli.drop([\"location\"], axis=1) # features\n",
    "y = ecoli[\"location\"] # target\n",
    "model2 = KNeighborsClassifier(n_neighbors = 5)\n",
    "X1, X2, y1, y2 = train_test_split(X, y, random_state= np.random, train_size=0.7) # 70% training and 30% test\n",
    "y_pred = model.fit(X1, y1).predict(X2)\n",
    "y2_model = model.predict(X2)\n",
    "accuracy_score(y2, y2_model)\n",
    "## -> Après executer ce code plusieurs fois on obtient des résultats differents et ça est dut du fait que Train1 # Train2"
   ]
  },
  {
   "cell_type": "markdown",
   "id": "b65f417c",
   "metadata": {},
   "source": [
    "### KNN Validation with Cross-validation\n",
    "Cross-validation or *k-fold cross-validation* is when the dataset is randomly split up into **k** groups. One of the groups is used as the test set and the rest are used as the training set. The model is trained on the training set and scored on the test set. Then the process is repeated until each unique group has been used as the test set."
   ]
  },
  {
   "cell_type": "code",
   "execution_count": 39,
   "id": "58f00e60",
   "metadata": {},
   "outputs": [
    {
     "data": {
      "text/plain": [
       "array([0.90322581, 0.90322581, 0.70491803, 0.81967213, 0.75409836])"
      ]
     },
     "execution_count": 39,
     "metadata": {},
     "output_type": "execute_result"
    }
   ],
   "source": [
    "# cross-val\n",
    "# 5-fold\n",
    "from sklearn.model_selection import cross_val_score\n",
    "cross_val_score(model, X, y, cv=5) \n",
    "## -> We get always the same result"
   ]
  },
  {
   "cell_type": "markdown",
   "id": "bc6ae984",
   "metadata": {},
   "source": [
    "### KNN Validation with LOOCV\n",
    "Split a dataset into a training set and a testing set, using all but one observation as part of the training set"
   ]
  },
  {
   "cell_type": "code",
   "execution_count": 47,
   "id": "a0dc5a44",
   "metadata": {},
   "outputs": [
    {
     "name": "stdout",
     "output_type": "stream",
     "text": [
      "[1. 1. 1. 1. 1. 1. 1. 1. 1. 1. 1. 1. 1. 1. 1. 1. 1. 1. 1. 1. 1. 1. 1. 1.\n",
      " 1. 1. 1. 1. 1. 1. 1. 1. 1. 1. 1. 1. 1. 1. 1. 1. 1. 0. 1. 1. 1. 1. 1. 1.\n",
      " 1. 1. 1. 1. 1. 1. 1. 1. 1. 1. 1. 1. 0. 1. 1. 1. 1. 1. 1. 0. 1. 1. 1. 1.\n",
      " 1. 1. 1. 1. 1. 1. 1. 0. 1. 1. 1. 1. 0. 1. 0. 1. 1. 1. 1. 1. 1. 1. 1. 0.\n",
      " 1. 0. 0. 1. 1. 1. 1. 1. 1. 1. 1. 1. 1. 1. 1. 1. 1. 1. 1. 1. 1. 1. 0. 1.\n",
      " 1. 1. 1. 1. 1. 1. 1. 1. 1. 1. 1. 1. 1. 1. 1. 1. 1. 1. 1. 1. 1. 1. 1. 1.\n",
      " 0. 1. 1. 1. 1. 1. 1. 1. 1. 1. 1. 1. 1. 0. 0. 1. 1. 1. 0. 1. 1. 1. 1. 1.\n",
      " 1. 1. 1. 1. 1. 1. 0. 1. 0. 1. 0. 1. 0. 1. 0. 0. 1. 1. 0. 0. 1. 1. 1. 1.\n",
      " 1. 1. 0. 1. 1. 1. 1. 1. 0. 1. 1. 1. 1. 0. 1. 1. 1. 0. 0. 1. 1. 1. 1. 1.\n",
      " 0. 0. 1. 0. 1. 1. 1. 0. 1. 1. 0. 0. 0. 1. 1. 1. 1. 1. 1. 0. 1. 0. 0. 1.\n",
      " 1. 0. 0. 0. 0. 1. 1. 0. 0. 1. 0. 1. 0. 0. 1. 1. 1. 1. 1. 1. 1. 1. 1. 1.\n",
      " 1. 1. 1. 1. 1. 1. 1. 0. 1. 1. 1. 1. 1. 1. 1. 1. 1. 1. 1. 1. 1. 0. 1. 1.\n",
      " 0. 1. 1. 1. 0. 1. 1. 1. 0. 1. 0. 1. 1. 0. 1. 1. 1. 1. 1.]\n",
      "0.8273615635179153\n"
     ]
    }
   ],
   "source": [
    "    # LOOCV ((Leave One Out Cross-Validation))\n",
    "    from sklearn.model_selection import LeaveOneOut\n",
    "    scores = cross_val_score(model, X, y, cv =LeaveOneOut() )\n",
    "    scores.mean() \n",
    "    print(scores)\n",
    "    print(scores.mean())\n",
    "    ## -> "
   ]
  },
  {
   "cell_type": "code",
   "execution_count": 59,
   "id": "c6b2efc4",
   "metadata": {},
   "outputs": [
    {
     "name": "stdout",
     "output_type": "stream",
     "text": [
      "Confusion Matrix: \n",
      " [[49  0  0  0]\n",
      " [ 1 18  0  4]\n",
      " [ 1  0 15  0]\n",
      " [ 0  1  0  4]] \n",
      "\n",
      "0.9247311827956989\n",
      "0.9394398393199951\n",
      "0.8800271739130434\n",
      "\n",
      "Accuracy: 0.9247311827956989\n",
      "\n",
      "Classification report :\n",
      "\n",
      "               precision    recall  f1-score   support\n",
      "\n",
      "           0       0.96      1.00      0.98        49\n",
      "           1       0.95      0.78      0.86        23\n",
      "           2       1.00      0.94      0.97        16\n",
      "           3       0.50      0.80      0.62         5\n",
      "\n",
      "    accuracy                           0.92        93\n",
      "   macro avg       0.85      0.88      0.86        93\n",
      "weighted avg       0.94      0.92      0.93        93\n",
      "\n"
     ]
    }
   ],
   "source": [
    "# Model evaluation\n",
    "X1, X2, y1, y2 = train_test_split(X,y, random_state= np.random, train_size=0.7)\n",
    "y_pred=model2.fit(X1,y1).predict(X2)\n",
    "y2_model=model2.predict(X2)\n",
    "cm1= confusion_matrix(y2, y2_model)\n",
    "print(\"Confusion Matrix: \\n\", cm1, \"\\n\")\n",
    "print(accuracy_score(y2, y2_model))\n",
    "print(precision_score(y2, y2_model, average='weighted'))\n",
    "print(recall_score(y2, y2_model, average='macro'))\n",
    "print(\"\\nAccuracy:\", accuracy_score(y2, y2_model))\n",
    "print(\"\\nClassification report :\\n\\n\", classification_report(y2, y2_model)) "
   ]
  },
  {
   "cell_type": "code",
   "execution_count": 60,
   "id": "a00210f6",
   "metadata": {},
   "outputs": [
    {
     "name": "stdout",
     "output_type": "stream",
     "text": [
      "0.8726881720430107\n",
      "{'n_neighbors': 13}\n",
      "KNeighborsClassifier(n_neighbors=13)\n"
     ]
    }
   ],
   "source": [
    "# Optimal parameters: Grid Search\n",
    "# Grid search\n",
    "from sklearn.model_selection import GridSearchCV\n",
    "#creat a new KNN model\n",
    "Knn2 = KNeighborsClassifier()\n",
    "K_range = list(range(1,32))\n",
    "pram_grid = dict(n_neighbors = K_range)\n",
    "grid = GridSearchCV(Knn2, pram_grid, cv = 10, scoring = 'accuracy')\n",
    "grid.fit(X,y)\n",
    "print(grid.best_score_)\n",
    "print(grid.best_params_)\n",
    "print(grid.best_estimator_)\n",
    "## -> Optimal parameters using LOOCV will be n_neighbors=13"
   ]
  },
  {
   "cell_type": "markdown",
   "id": "9c51537c",
   "metadata": {},
   "source": [
    "### Model Evaluation according to the four metrics using the three validation methods\n",
    "\n",
    "|           \t| Hold-out \t| CV 5-folds \t| LOOCV \t|\n",
    "|:-----------:\t|:----------:\t|:--------------------------:\t|:-------:\t|\n",
    "| Accuracy  \t| 85%      \t| 90%                      \t| 83%   \t|\n",
    "| Precision \t| 98%      \t|                          \t|       \t|\n",
    "| Recall    \t| 98%      \t|                          \t|       \t|\n",
    "| F1-score  \t| 98%      \t|                          \t|       \t|\n",
    "\n"
   ]
  }
 ],
 "metadata": {
  "kernelspec": {
   "display_name": "Python 3 (ipykernel)",
   "language": "python",
   "name": "python3"
  },
  "language_info": {
   "codemirror_mode": {
    "name": "ipython",
    "version": 3
   },
   "file_extension": ".py",
   "mimetype": "text/x-python",
   "name": "python",
   "nbconvert_exporter": "python",
   "pygments_lexer": "ipython3",
   "version": "3.9.7"
  }
 },
 "nbformat": 4,
 "nbformat_minor": 5
}
